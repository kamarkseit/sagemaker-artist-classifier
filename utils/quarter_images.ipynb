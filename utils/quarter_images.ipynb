{
 "cells": [
  {
   "cell_type": "code",
   "execution_count": null,
   "id": "0133ab4b-d0b7-46b5-bfae-daa69b1e1a36",
   "metadata": {},
   "outputs": [],
   "source": [
    "import cv2\n",
    "import os\n",
    "from os import listdir"
   ]
  },
  {
   "cell_type": "code",
   "execution_count": null,
   "id": "a81d4638-4239-441d-9929-ec6179d3de90",
   "metadata": {},
   "outputs": [],
   "source": [
    "img_folder_path='...'\n",
    "for image in os.listdir(img_folder_path):\n",
    "    path=img_folder_path+image\n",
    "    save_path='...'+image\n",
    "    img = cv2.imread(path)\n",
    "    h, w, channels = img.shape\n",
    "    half = w//2\n",
    "    # this will be the first column\n",
    "    left_part = img[:, :half] \n",
    "    right_part = img[:, half:]   \n",
    "    \n",
    "    img = left_part\n",
    "    half2 = h//2\n",
    "    top = img[:half2, :]\n",
    "    bottom = img[half2:, :]\n",
    "    cv2.imwrite(save_path+'1.jpg',top)\n",
    "    cv2.imwrite(save_path+'2.jpg',bottom)\n",
    "  \n",
    "    img = right_part\n",
    "    half2 = h//2\n",
    "    top = img[:half2, :]\n",
    "    bottom = img[half2:, :]\n",
    "    cv2.imwrite(save_path+'3.jpg',top)\n",
    "    cv2.imwrite(save_path+'4.jpg',bottom)"
   ]
  }
 ],
 "metadata": {
  "kernelspec": {
   "display_name": "Python 3 (ipykernel)",
   "language": "python",
   "name": "python3"
  },
  "language_info": {
   "codemirror_mode": {
    "name": "ipython",
    "version": 3
   },
   "file_extension": ".py",
   "mimetype": "text/x-python",
   "name": "python",
   "nbconvert_exporter": "python",
   "pygments_lexer": "ipython3",
   "version": "3.12.9"
  }
 },
 "nbformat": 4,
 "nbformat_minor": 5
}
